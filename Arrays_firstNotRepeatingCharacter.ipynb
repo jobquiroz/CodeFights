{
 "cells": [
  {
   "cell_type": "markdown",
   "metadata": {},
   "source": [
    "## firstNotRepeatingCharacter\n",
    "\n",
    "Given a string *s*, find and return the first instance of a non-repeating character in it. If there is no such character, return *'_'*.\n",
    "\n",
    "**Input**\n",
    "A string that contains only lowercase English letters.\n",
    "\n",
    "*Guaranteed constraints:*\n",
    "1 ≤ s.length ≤ 10^5.\n",
    "\n",
    "*Note: Write a solution that only iterates over the string once and uses O(1) additional memory, since this is what you would be asked to do during a real interview.*"
   ]
  },
  {
   "cell_type": "markdown",
   "metadata": {},
   "source": [
    "### My solution\n",
    "\n",
    "I create a Dictionary where I store all letters in the strings (as keys) as well as the position where they first appear and the total number of repetitions in the strings:\n",
    "\n",
    "Dic[letter] = [letter, position first appearance, number of repetitions] \n",
    "\n",
    "Based on this dictionary I return the output.\n",
    "It's worth to mention that even thouh I'm creating a new data structure, and therefore using additional memory, the space complexity remains as O(1) since the lenght of the dictionary doesn't depend on input size."
   ]
  },
  {
   "cell_type": "code",
   "execution_count": 60,
   "metadata": {},
   "outputs": [
    {
     "name": "stdout",
     "output_type": "stream",
     "text": [
      "d\n"
     ]
    }
   ],
   "source": [
    "def firstNotRepeatingCharacter(s):\n",
    "    Dic = {}\n",
    "    for pos,let in enumerate(s):\n",
    "        if let in Dic:\n",
    "            Dic[let][2] += 1\n",
    "        else:\n",
    "            Dic[let] = [let,pos,1]            \n",
    "    appear_once = sorted ( [x for x in Dic.values() if x[2] == 1], key = lambda x: x[1] )    \n",
    "    if appear_once:\n",
    "        return appear_once[0][0]\n",
    "    else:\n",
    "        return '_'\n",
    "\n",
    "print firstNotRepeatingCharacter('xdnxxlvupzuwgigeqjggosgljuhliybkjpibyatofcjbfxwtalc') # expected output 'd'"
   ]
  },
  {
   "cell_type": "markdown",
   "metadata": {},
   "source": [
    "## tyge318's solution\n",
    "\n",
    "This is the most voted solution and for a reason, it is a very smart code.\n",
    "It is based on the function find and reversefind (rfind) if a letter only appears once then the returned index of s.find and  s.rfind should be the same.\n",
    "Genius"
   ]
  },
  {
   "cell_type": "code",
   "execution_count": 61,
   "metadata": {},
   "outputs": [
    {
     "name": "stdout",
     "output_type": "stream",
     "text": [
      "d\n"
     ]
    }
   ],
   "source": [
    "def firstNotRepeatingCharacter(s):\n",
    "    for c in s:\n",
    "        if s.find(c) == s.rfind(c):\n",
    "            return c\n",
    "    return '_'\n",
    "\n",
    "print firstNotRepeatingCharacter('xdnxxlvupzuwgigeqjggosgljuhliybkjpibyatofcjbfxwtalc') # expected output 'd'"
   ]
  }
 ],
 "metadata": {
  "kernelspec": {
   "display_name": "Python 2",
   "language": "python",
   "name": "python2"
  },
  "language_info": {
   "codemirror_mode": {
    "name": "ipython",
    "version": 2
   },
   "file_extension": ".py",
   "mimetype": "text/x-python",
   "name": "python",
   "nbconvert_exporter": "python",
   "pygments_lexer": "ipython2",
   "version": "2.7.14"
  }
 },
 "nbformat": 4,
 "nbformat_minor": 2
}
