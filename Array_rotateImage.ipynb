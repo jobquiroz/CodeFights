{
 "cells": [
  {
   "cell_type": "markdown",
   "metadata": {},
   "source": [
    "## rotateImage\n",
    "\n",
    "You are given an n x n 2D matrix that represents an image. Rotate the image by 90 degrees (clockwise).\n",
    "\n",
    "**Example**\n",
    "\n",
    "For\n",
    "\n",
    "a = [[1, 2, 3],\n",
    "     [4, 5, 6],\n",
    "     [7, 8, 9]]\n",
    "the output should be\n",
    "\n",
    "rotateImage(a) =\n",
    "    [[7, 4, 1],\n",
    "     [8, 5, 2],\n",
    "     [9, 6, 3]]\n",
    "     \n",
    "*Note: Try to solve this task in-place (with O(1) additional memory), since this is what you'll be asked to do during an interview.*"
   ]
  },
  {
   "cell_type": "markdown",
   "metadata": {},
   "source": [
    "## My solution\n",
    "\n",
    "Using numpy arrays, I'm not quite sure wheter or not this algorithm is in-place."
   ]
  },
  {
   "cell_type": "code",
   "execution_count": 21,
   "metadata": {},
   "outputs": [],
   "source": [
    "import numpy as np\n",
    "\n",
    "def rotateImage(a):\n",
    "    a = np.array(a)\n",
    "    return np.rot90(a, 3)"
   ]
  },
  {
   "cell_type": "markdown",
   "metadata": {},
   "source": [
    "## memoryfield's solution (most voted)\n",
    "A very concise solution"
   ]
  },
  {
   "cell_type": "code",
   "execution_count": 22,
   "metadata": {},
   "outputs": [],
   "source": [
    "rotateImage = lambda a: zip(*a[::-1])"
   ]
  },
  {
   "cell_type": "markdown",
   "metadata": {},
   "source": [
    "## zaegix's solution"
   ]
  },
  {
   "cell_type": "code",
   "execution_count": 23,
   "metadata": {},
   "outputs": [],
   "source": [
    "def rotateImage(a):\n",
    "    return zip(*a[::-1])"
   ]
  },
  {
   "cell_type": "markdown",
   "metadata": {},
   "source": [
    "## The *zip* built-in function\n",
    "\n",
    "According to Python documentation the *zip* function 'makes an interator that aggregates elements from each of the iterables'.\n",
    "It is commonly used to combine two or more list into a tuple, where each tuple contains elements from both lists.\n",
    "A quick example might be:"
   ]
  },
  {
   "cell_type": "code",
   "execution_count": 24,
   "metadata": {},
   "outputs": [
    {
     "name": "stdout",
     "output_type": "stream",
     "text": [
      "[(1, 4), (2, 5), (3, 6)]\n"
     ]
    }
   ],
   "source": [
    "x = [1, 2, 3]\n",
    "y = [4, 5, 6]\n",
    "zipped = zip(x,y)\n",
    "print list(zipped)"
   ]
  },
  {
   "cell_type": "markdown",
   "metadata": {},
   "source": [
    "zip() in conjunction with the * operator can be used to unzip a list:"
   ]
  },
  {
   "cell_type": "code",
   "execution_count": 25,
   "metadata": {},
   "outputs": [
    {
     "name": "stdout",
     "output_type": "stream",
     "text": [
      "[1, 2, 3] [4, 5, 6]\n"
     ]
    }
   ],
   "source": [
    "x2, y2 = zip(*zipped)\n",
    "print list(x2), list(y2)"
   ]
  },
  {
   "cell_type": "markdown",
   "metadata": {},
   "source": [
    "## Rotating array..."
   ]
  },
  {
   "cell_type": "code",
   "execution_count": 26,
   "metadata": {},
   "outputs": [
    {
     "name": "stdout",
     "output_type": "stream",
     "text": [
      "[[7, 8, 9], [4, 5, 6], [1, 2, 3]]\n",
      "[(7, 4, 1), (8, 5, 2), (9, 6, 3)]\n"
     ]
    }
   ],
   "source": [
    "A = [[1, 2, 3],[4, 5, 6], [7, 8, 9]]\n",
    "# This step reverse a the first level of the list\n",
    "print A[::-1]\n",
    "# When we use the zip function with a list of lists it returns a list of tuples where each tuple has one element\n",
    "# of the internal lists of the argument list... \n",
    "print zip(*A[::-1])\n",
    "# In that way memoryfield didn't think about matrices but only care about how the final answer looks like compared with its input."
   ]
  }
 ],
 "metadata": {
  "kernelspec": {
   "display_name": "Python 2",
   "language": "python",
   "name": "python2"
  },
  "language_info": {
   "codemirror_mode": {
    "name": "ipython",
    "version": 2
   },
   "file_extension": ".py",
   "mimetype": "text/x-python",
   "name": "python",
   "nbconvert_exporter": "python",
   "pygments_lexer": "ipython2",
   "version": "2.7.14"
  }
 },
 "nbformat": 4,
 "nbformat_minor": 2
}
