{
 "cells": [
  {
   "cell_type": "markdown",
   "metadata": {},
   "source": [
    "## Sudoku2\n",
    "\n",
    "Sudoku is a number-placement puzzle. The objective is to fill a 9 × 9 grid with numbers in such a way that each column, each row, and each of the nine 3 × 3 sub-grids that compose the grid all contain all of the numbers from 1 to 9 one time.\n",
    "\n",
    "Implement an algorithm that will check whether the given grid of numbers represents a valid Sudoku puzzle according to the layout rules described above. Note that the puzzle represented by grid does not have to be solvable\n",
    "\n",
    "**input** \n",
    "A 9 × 9 array of characters, in which each character is either a digit from '1' to '9' or a period '.'.\n",
    "\n",
    "**output**\n",
    "True or False (boolean)"
   ]
  },
  {
   "cell_type": "markdown",
   "metadata": {},
   "source": [
    "### My first solution\n",
    "\n",
    "I didn't detect any kind of recursive nature for the problem, and there weren't any type of time nor space complexity for the problem, which is due to the fixed dimensions for the input.\n",
    "\n",
    "The most straightforward way to solve the problem was to solve it in a human-like way. First check each row of the input to see if there were any repeated element (very easy to do in code), similarly check for each column for the input (in this case I had to find the transpose of the input square), finally I check each of the nine 3 x 3 squares (in this case the 'difficult' part was to create the squares from the input)."
   ]
  },
  {
   "cell_type": "code",
   "execution_count": 46,
   "metadata": {},
   "outputs": [],
   "source": [
    "def sudoku2(grid):\n",
    "    def repeated_element(lis):\n",
    "        # Return True or false if are there any non-'.' repeated elements\n",
    "        aux = [x for x in lis if x != '.']\n",
    "        return len(aux) != len(set(aux))\n",
    "\n",
    "    # Checking rows...\n",
    "    for row in grid:\n",
    "        if repeated_element(row):\n",
    "            return False\n",
    "        \n",
    "    # Traspose to check columns...\n",
    "    grid2 = map(list, zip(*grid))\n",
    "    for row in grid2:\n",
    "        if repeated_element(row):\n",
    "            return False\n",
    "\n",
    "    # Creating 3 x 3 squares...\n",
    "    squares = [[x[3*a:3*a+3] for x in grid] for a in [0,1,2]]\n",
    "    squares = [[x[3*a] + x[3*a+1] + x[3*a+2] for x in squares] for a in [0,1,2]]\n",
    "    # are there repeated elements in each filtered square??\n",
    "    for x in squares:\n",
    "        for square in x:\n",
    "            if repeated_element(square):\n",
    "                return False\n",
    "            \n",
    "    return True"
   ]
  },
  {
   "cell_type": "code",
   "execution_count": 48,
   "metadata": {},
   "outputs": [
    {
     "name": "stdout",
     "output_type": "stream",
     "text": [
      "True\n",
      "False\n"
     ]
    }
   ],
   "source": [
    "grid_1 = [['.', '.', '.', '1', '4', '.', '.', '2', '.'],\n",
    "        ['.', '.', '6', '.', '.', '.', '.', '.', '.'],\n",
    "        ['.', '.', '.', '.', '.', '.', '.', '.', '.'],\n",
    "        ['.', '.', '1', '.', '.', '.', '.', '.', '.'],\n",
    "        ['.', '6', '7', '.', '.', '.', '.', '.', '9'],\n",
    "        ['.', '.', '.', '.', '.', '.', '8', '1', '.'],\n",
    "        ['.', '3', '.', '.', '.', '.', '.', '.', '6'],\n",
    "        ['.', '.', '.', '.', '.', '7', '.', '.', '.'],\n",
    "        ['.', '.', '.', '5', '.', '.', '.', '7', '.']]\n",
    "\n",
    "grid_2 = [['.', '.', '.', '.', '2', '.', '.', '9', '.'],\n",
    "        ['.', '.', '.', '.', '6', '.', '.', '.', '.'],\n",
    "        ['7', '1', '.', '.', '7', '5', '.', '.', '.'],\n",
    "        ['.', '7', '.', '.', '.', '.', '.', '.', '.'],\n",
    "        ['.', '.', '.', '.', '8', '3', '.', '.', '.'],\n",
    "        ['.', '.', '8', '.', '.', '7', '.', '6', '.'],\n",
    "        ['.', '.', '.', '.', '.', '2', '.', '.', '.'],\n",
    "        ['.', '1', '.', '2', '.', '.', '.', '.', '.'],\n",
    "        ['.', '2', '.', '.', '3', '.', '.', '.', '.']]\n",
    "\n",
    "\n",
    "print sudoku2(grid_1)\n",
    "print sudoku2(grid_2)\n"
   ]
  },
  {
   "cell_type": "markdown",
   "metadata": {},
   "source": [
    "## Other user's solution \n",
    "\n",
    "### Most voted (AWice (Canada))\n",
    "\n",
    "A very elegant solution..."
   ]
  },
  {
   "cell_type": "code",
   "execution_count": 49,
   "metadata": {},
   "outputs": [],
   "source": [
    "def sudoku2(grid):\n",
    "    def unique(G):\n",
    "        G = [x for x in G if x != '.']\n",
    "        return len(set(G)) == len(G)\n",
    "    def groups(A):\n",
    "        B = zip(*A)\n",
    "        for v in xrange(9):\n",
    "            yield A[v]\n",
    "            yield B[v]\n",
    "            yield [A[v/3*3 + r][v%3*3 +c] \n",
    "                   for r in xrange(3) for c in xrange(3)]\n",
    "    \n",
    "    return all(unique(grp) for grp in groups(grid))"
   ]
  },
  {
   "cell_type": "markdown",
   "metadata": {},
   "source": [
    "## Second most voted (abhishek_24 (US))\n",
    "I actually like this one more."
   ]
  },
  {
   "cell_type": "code",
   "execution_count": 50,
   "metadata": {},
   "outputs": [],
   "source": [
    "def sudoku2(board):\n",
    "    big = set()\n",
    "    for i in xrange(0,9):\n",
    "        for j in xrange(0,9):\n",
    "            if board[i][j]!='.':\n",
    "                cur = board[i][j]\n",
    "                if (i,cur) in big or (cur,j) in big or (i/3,j/3,cur) in big:\n",
    "                    return False\n",
    "                big.add((i,cur))\n",
    "                big.add((cur,j))\n",
    "                big.add((i/3,j/3,cur))\n",
    "    return True"
   ]
  }
 ],
 "metadata": {
  "kernelspec": {
   "display_name": "Python 2",
   "language": "python",
   "name": "python2"
  },
  "language_info": {
   "codemirror_mode": {
    "name": "ipython",
    "version": 2
   },
   "file_extension": ".py",
   "mimetype": "text/x-python",
   "name": "python",
   "nbconvert_exporter": "python",
   "pygments_lexer": "ipython2",
   "version": "2.7.14"
  }
 },
 "nbformat": 4,
 "nbformat_minor": 2
}
