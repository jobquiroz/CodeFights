{
 "cells": [
  {
   "cell_type": "markdown",
   "metadata": {},
   "source": [
    "## First Duplicate\n",
    "\n",
    "Given an array that contains only numbers in the range from 1 to a.lenght, find the first duplicate number for which the second occurrence has the minimal index. In other words, if there are more than 1 duplicated numbers, return the number for which the second occurrence has a smaller index than the second occurrence of the other number does. If there are no such elements, return -1.\n",
    "\n",
    "**Example**\n",
    "- For a = [2, 3, 3, 1, 5, 2] the output should be firstDuplicate(a) = 3\n",
    "- For a = [2, 4, 3, 5, 1], the output shoul be firstDuplicate(a) = -1\n",
    "\n",
    "*Note: Write a solution with O(n) time complexity and O(1) additional space complexity, since this is what you would be asked to do during a real interview.*\n",
    "\n",
    "\n",
    "*Guaranteed constraints:*\n",
    "1 <= a.length <= 10^5\n",
    "1 <= a[i] <= a.length"
   ]
  },
  {
   "cell_type": "markdown",
   "metadata": {},
   "source": [
    "### First try (exceded limit time)\n",
    "\n",
    "A lot of things occurred to me but I decided to create a new list to represent the repeated elements in a new array called repeated, where\n",
    "repeated[i] = [repeated_value, index of second occurrence]\n",
    "\n",
    "Once this representation is done, the final answer is just  return the repeated value for the minimum index of second occurrence (or -1 if repeated is None).\n",
    "\n",
    "This program was correct but inneficient, in terms of both time and space."
   ]
  },
  {
   "cell_type": "code",
   "execution_count": 1,
   "metadata": {},
   "outputs": [],
   "source": [
    "def firstDuplicate_1(a):\n",
    "    repeated = []\n",
    "    for i in range(len(a)):\n",
    "        if a[i] in a[i+1:]:\n",
    "            repeated.append([a[i], a[i+1:].index(a[i]) + i + 1])\n",
    "    if repeated:\n",
    "        return min(repeated, key = lambda x: x[1])[0]\n",
    "    else:\n",
    "        return -1"
   ]
  },
  {
   "cell_type": "markdown",
   "metadata": {},
   "source": [
    "## Second try (using Clues)\n",
    "\n",
    "This program is has a time complexity O(n), which means that it only goes through the list once (unlike our previous program that basically has something like O(n^2) time complexity). It also has a space complexity O(1), meaning that it doesn't create any new array that depends on the input size n.\n",
    "\n",
    "For the program to work the Guaranteed input constraints are critical, especially the second one that establish the range for the value of a[1]...\n",
    "Since 1 <= a[i] <= a.length, we can always access the index a[i]-1. The value a[i] and the value a[a[i] - 1] are totally unrelated at first, but we can change the sign of a[a[i] - 1] as a mean ti indicate that the value a[i] has ocurred before... \n",
    "As we start to travel our list most of the values are going to start being negative and when we encounter one value that change from negative to positive that means that we have a firs Duplicate.\n"
   ]
  },
  {
   "cell_type": "code",
   "execution_count": 2,
   "metadata": {},
   "outputs": [],
   "source": [
    "def firstDuplicate_2(a):\n",
    "    for x in a:\n",
    "        a[abs(x) - 1] *= -1 #change sign\n",
    "        if a[abs(x) - 1] > 0:\n",
    "            return abs(x)\n",
    "    return -1"
   ]
  },
  {
   "cell_type": "markdown",
   "metadata": {},
   "source": [
    "## Another users' answers\n",
    "### Using sets\n",
    "\n",
    "These codes are time efficient and very straightforward but they require more memory space (not in-site algorithms)."
   ]
  },
  {
   "cell_type": "code",
   "execution_count": null,
   "metadata": {},
   "outputs": [],
   "source": [
    "def firstDuplicate_3(a):\n",
    "    mySet = set()\n",
    "    for el in a:\n",
    "        if el in mySet:\n",
    "            return el\n",
    "        mySet.add(el)\n",
    "    return -1\n",
    "\n",
    "def firstDuplicate_4(a):\n",
    "    seen = set([])\n",
    "    for x in a:\n",
    "        if x in seen: return x\n",
    "        seen.add(x)\n",
    "    return -1"
   ]
  }
 ],
 "metadata": {
  "kernelspec": {
   "display_name": "Python 2",
   "language": "python",
   "name": "python2"
  },
  "language_info": {
   "codemirror_mode": {
    "name": "ipython",
    "version": 2
   },
   "file_extension": ".py",
   "mimetype": "text/x-python",
   "name": "python",
   "nbconvert_exporter": "python",
   "pygments_lexer": "ipython2",
   "version": "2.7.14"
  }
 },
 "nbformat": 4,
 "nbformat_minor": 2
}
